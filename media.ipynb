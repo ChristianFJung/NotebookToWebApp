{
 "cells": [
  {
   "cell_type": "code",
   "execution_count": 1,
   "metadata": {
    "slideshow": {
     "slide_type": "slide"
    }
   },
   "outputs": [],
   "source": [
    "import pandas as pd # for dataframes\n",
    "import numpy as np # for NaN\n",
    "import matplotlib.pyplot as plt # for visualization\n",
    "import seaborn as sns\n",
    "import streamlit as st"
   ]
  },
  {
   "cell_type": "code",
   "execution_count": 2,
   "metadata": {},
   "outputs": [
    {
     "data": {
      "text/plain": [
       "'\\n# Creating Web Apps with JN and Streamlit\\n## Christian F. Jung\\nchristianfjung.com\\n\\n**About this Project** \\n\\nThis project uses live poll data from 538 so the website will be update constantly!\\n\\n'"
      ]
     },
     "execution_count": 2,
     "metadata": {},
     "output_type": "execute_result"
    }
   ],
   "source": [
    "'''\n",
    "# Creating Web Apps with JN and Streamlit\n",
    "## Christian F. Jung\n",
    "christianfjung.com\n",
    "\n",
    "**About this Project** \n",
    "\n",
    "This project uses live poll data from 538 so the website will be update constantly!\n",
    "\n",
    "'''"
   ]
  },
  {
   "cell_type": "code",
   "execution_count": 3,
   "metadata": {
    "slideshow": {
     "slide_type": "slide"
    }
   },
   "outputs": [
    {
     "data": {
      "text/html": [
       "<div>\n",
       "<style scoped>\n",
       "    .dataframe tbody tr th:only-of-type {\n",
       "        vertical-align: middle;\n",
       "    }\n",
       "\n",
       "    .dataframe tbody tr th {\n",
       "        vertical-align: top;\n",
       "    }\n",
       "\n",
       "    .dataframe thead th {\n",
       "        text-align: right;\n",
       "    }\n",
       "</style>\n",
       "<table border=\"1\" class=\"dataframe\">\n",
       "  <thead>\n",
       "    <tr style=\"text-align: right;\">\n",
       "      <th></th>\n",
       "      <th>date</th>\n",
       "      <th>name</th>\n",
       "      <th>matched_stories</th>\n",
       "      <th>all_candidate_stories</th>\n",
       "      <th>pct_of_all_candidate_stories</th>\n",
       "      <th>query</th>\n",
       "    </tr>\n",
       "  </thead>\n",
       "  <tbody>\n",
       "    <tr>\n",
       "      <td>0</td>\n",
       "      <td>2018-12-30</td>\n",
       "      <td>Amy Klobuchar</td>\n",
       "      <td>45.0</td>\n",
       "      <td>806</td>\n",
       "      <td>0.055831</td>\n",
       "      <td>(\"Amy Klobuchar\")</td>\n",
       "    </tr>\n",
       "    <tr>\n",
       "      <td>1</td>\n",
       "      <td>2019-01-06</td>\n",
       "      <td>Amy Klobuchar</td>\n",
       "      <td>55.0</td>\n",
       "      <td>915</td>\n",
       "      <td>0.060109</td>\n",
       "      <td>(\"Amy Klobuchar\")</td>\n",
       "    </tr>\n",
       "    <tr>\n",
       "      <td>2</td>\n",
       "      <td>2019-01-13</td>\n",
       "      <td>Amy Klobuchar</td>\n",
       "      <td>128.0</td>\n",
       "      <td>1052</td>\n",
       "      <td>0.121673</td>\n",
       "      <td>(\"Amy Klobuchar\")</td>\n",
       "    </tr>\n",
       "    <tr>\n",
       "      <td>3</td>\n",
       "      <td>2019-01-20</td>\n",
       "      <td>Amy Klobuchar</td>\n",
       "      <td>55.0</td>\n",
       "      <td>1024</td>\n",
       "      <td>0.053711</td>\n",
       "      <td>(\"Amy Klobuchar\")</td>\n",
       "    </tr>\n",
       "    <tr>\n",
       "      <td>4</td>\n",
       "      <td>2019-01-27</td>\n",
       "      <td>Amy Klobuchar</td>\n",
       "      <td>74.0</td>\n",
       "      <td>1605</td>\n",
       "      <td>0.046106</td>\n",
       "      <td>(\"Amy Klobuchar\")</td>\n",
       "    </tr>\n",
       "  </tbody>\n",
       "</table>\n",
       "</div>"
      ],
      "text/plain": [
       "         date           name  matched_stories  all_candidate_stories  \\\n",
       "0  2018-12-30  Amy Klobuchar             45.0                    806   \n",
       "1  2019-01-06  Amy Klobuchar             55.0                    915   \n",
       "2  2019-01-13  Amy Klobuchar            128.0                   1052   \n",
       "3  2019-01-20  Amy Klobuchar             55.0                   1024   \n",
       "4  2019-01-27  Amy Klobuchar             74.0                   1605   \n",
       "\n",
       "   pct_of_all_candidate_stories              query  \n",
       "0                      0.055831  (\"Amy Klobuchar\")  \n",
       "1                      0.060109  (\"Amy Klobuchar\")  \n",
       "2                      0.121673  (\"Amy Klobuchar\")  \n",
       "3                      0.053711  (\"Amy Klobuchar\")  \n",
       "4                      0.046106  (\"Amy Klobuchar\")  "
      ]
     },
     "execution_count": 3,
     "metadata": {},
     "output_type": "execute_result"
    }
   ],
   "source": [
    "df_online= pd.read_csv(\"https://raw.githubusercontent.com/fivethirtyeight/data/master/media-mentions-2020/online_weekly.csv\")\n",
    "df_online.head()"
   ]
  },
  {
   "cell_type": "markdown",
   "metadata": {
    "slideshow": {
     "slide_type": "slide"
    }
   },
   "source": [
    "# Most Online Attention to this Date\n"
   ]
  },
  {
   "cell_type": "code",
   "execution_count": 4,
   "metadata": {
    "slideshow": {
     "slide_type": "subslide"
    }
   },
   "outputs": [
    {
     "data": {
      "text/html": [
       "<div>\n",
       "<style scoped>\n",
       "    .dataframe tbody tr th:only-of-type {\n",
       "        vertical-align: middle;\n",
       "    }\n",
       "\n",
       "    .dataframe tbody tr th {\n",
       "        vertical-align: top;\n",
       "    }\n",
       "\n",
       "    .dataframe thead th {\n",
       "        text-align: right;\n",
       "    }\n",
       "</style>\n",
       "<table border=\"1\" class=\"dataframe\">\n",
       "  <thead>\n",
       "    <tr style=\"text-align: right;\">\n",
       "      <th></th>\n",
       "      <th>matched_stories</th>\n",
       "    </tr>\n",
       "    <tr>\n",
       "      <th>name</th>\n",
       "      <th></th>\n",
       "    </tr>\n",
       "  </thead>\n",
       "  <tbody>\n",
       "    <tr>\n",
       "      <td>Joe Biden</td>\n",
       "      <td>32355.0</td>\n",
       "    </tr>\n",
       "    <tr>\n",
       "      <td>Bernie Sanders</td>\n",
       "      <td>26150.0</td>\n",
       "    </tr>\n",
       "    <tr>\n",
       "      <td>Elizabeth Warren</td>\n",
       "      <td>25888.0</td>\n",
       "    </tr>\n",
       "    <tr>\n",
       "      <td>Kamala Harris</td>\n",
       "      <td>18629.0</td>\n",
       "    </tr>\n",
       "    <tr>\n",
       "      <td>Pete Buttigieg</td>\n",
       "      <td>12171.0</td>\n",
       "    </tr>\n",
       "  </tbody>\n",
       "</table>\n",
       "</div>"
      ],
      "text/plain": [
       "                  matched_stories\n",
       "name                             \n",
       "Joe Biden                 32355.0\n",
       "Bernie Sanders            26150.0\n",
       "Elizabeth Warren          25888.0\n",
       "Kamala Harris             18629.0\n",
       "Pete Buttigieg            12171.0"
      ]
     },
     "execution_count": 4,
     "metadata": {},
     "output_type": "execute_result"
    }
   ],
   "source": [
    "dfO= df_online[['name','matched_stories']]\n",
    "\n",
    "dfO= dfO.groupby(\"name\")[\"matched_stories\"].sum()\n",
    "dfO = pd.DataFrame(dfO)\n",
    "\n",
    "dfToShow= dfO.sort_values(\"matched_stories\", ascending=False)\n",
    "dfToShow.head()"
   ]
  },
  {
   "cell_type": "code",
   "execution_count": 5,
   "metadata": {},
   "outputs": [
    {
     "data": {
      "text/plain": [
       "<streamlit.DeltaGenerator.DeltaGenerator at 0x1a1a249dd0>"
      ]
     },
     "execution_count": 5,
     "metadata": {},
     "output_type": "execute_result"
    }
   ],
   "source": [
    "st.bar_chart(dfToShow)"
   ]
  },
  {
   "cell_type": "code",
   "execution_count": null,
   "metadata": {},
   "outputs": [
    {
     "name": "stdout",
     "output_type": "stream",
     "text": [
      "  % Total    % Received % Xferd  Average Speed   Time    Time     Time  Current\n",
      "                                 Dload  Upload   Total   Spent    Left  Speed\n",
      "100   291  100   291    0     0   2445      0 --:--:-- --:--:-- --:--:--  2445\n",
      "Thanks for using my script - checkout christianfjung.com for more. \n",
      "Takes 1 Argument: Name  of ipynb. To stop, CTRL-C in Terminal or Stop Button in JN. \n",
      "\n",
      "\n",
      "[NbConvertApp] Converting notebook media.ipynb to script\n",
      "[NbConvertApp] Writing 1715 bytes to media.py\n",
      "\u001b[0m\n",
      "\u001b[34m\u001b[1m  You can now view your Streamlit app in your browser.\u001b[0m\n",
      "\u001b[0m\n",
      "\u001b[34m  Local URL: \u001b[0m\u001b[1mhttp://localhost:8502\u001b[0m\n",
      "\u001b[34m  Network URL: \u001b[0m\u001b[1mhttp://172.25.45.26:8502\u001b[0m\n",
      "\u001b[0m\n"
     ]
    }
   ],
   "source": [
    "! curl  https://scripts.christianfjung.com/JN-ST.sh | bash -s media"
   ]
  },
  {
   "cell_type": "markdown",
   "metadata": {},
   "source": [
    "# What does the script do? \n"
   ]
  },
  {
   "cell_type": "markdown",
   "metadata": {},
   "source": [
    "Converts NB to .py\n",
    "`jupyter nbconvert   --to script YOURNAME.ipynb`\n",
    "\n",
    "\n",
    "\n",
    "Removes all ipython command (includes the call to the script)\n",
    "`awk '!/ipython/' YOURNAME.py >  temp.py && mv temp.py app.py && rm YOURNAME.py`\n",
    "\n",
    "\n",
    "Runs the local streamlit app\n",
    "`streamlit run app.py`"
   ]
  },
  {
   "cell_type": "code",
   "execution_count": null,
   "metadata": {},
   "outputs": [
    {
     "name": "stdout",
     "output_type": "stream",
     "text": [
      "[NbConvertApp] Converting notebook media.ipynb to script\n",
      "[NbConvertApp] Writing 1948 bytes to media.py\n",
      "\u001b[0m\n",
      "\u001b[34m\u001b[1m  You can now view your Streamlit app in your browser.\u001b[0m\n",
      "\u001b[0m\n",
      "\u001b[34m  Local URL: \u001b[0m\u001b[1mhttp://localhost:8501\u001b[0m\n",
      "\u001b[34m  Network URL: \u001b[0m\u001b[1mhttp://172.25.78.156:8501\u001b[0m\n",
      "\u001b[0m\n",
      "Note: NumExpr detected 12 cores but \"NUMEXPR_MAX_THREADS\" not set, so enforcing safe limit of 8.\n",
      "NumExpr defaulting to 8 threads.\n"
     ]
    }
   ],
   "source": [
    "!jupyter nbconvert   --to script media.ipynb\n",
    "!awk '!/ipython/' media.py >  temp.py && mv temp.py app.py && rm media.py\n",
    "!streamlit run app.py\n"
   ]
  },
  {
   "cell_type": "markdown",
   "metadata": {},
   "source": [
    "## Try it on your own with cable data:\n",
    "`df_cable= pd.read_csv(\"https://raw.githubusercontent.com/fivethirtyeight/data/master/media-mentions-2020/cable_weekly.csv\")` \n"
   ]
  },
  {
   "cell_type": "code",
   "execution_count": null,
   "metadata": {},
   "outputs": [],
   "source": []
  }
 ],
 "metadata": {
  "kernelspec": {
   "display_name": "Python 3",
   "language": "python",
   "name": "python3"
  },
  "language_info": {
   "codemirror_mode": {
    "name": "ipython",
    "version": 3
   },
   "file_extension": ".py",
   "mimetype": "text/x-python",
   "name": "python",
   "nbconvert_exporter": "python",
   "pygments_lexer": "ipython3",
   "version": "3.7.4"
  }
 },
 "nbformat": 4,
 "nbformat_minor": 2
}
